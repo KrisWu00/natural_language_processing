{
 "cells": [
  {
   "cell_type": "markdown",
   "metadata": {},
   "source": [
    "# Assignment 1\n",
    "## Part 1: Byte Pair Encoding\n",
    "\n",
    "### Import Required Packages"
   ]
  },
  {
   "cell_type": "code",
   "execution_count": 16,
   "metadata": {},
   "outputs": [
    {
     "name": "stderr",
     "output_type": "stream",
     "text": [
      "[nltk_data] Downloading package punkt to /Users/zihanwang/nltk_data...\n",
      "[nltk_data]   Package punkt is already up-to-date!\n",
      "[nltk_data] Downloading package gutenberg to\n",
      "[nltk_data]     /Users/zihanwang/nltk_data...\n",
      "[nltk_data]   Package gutenberg is already up-to-date!\n"
     ]
    },
    {
     "data": {
      "text/plain": [
       "True"
      ]
     },
     "execution_count": 16,
     "metadata": {},
     "output_type": "execute_result"
    }
   ],
   "source": [
    "import re\n",
    "import os\n",
    "import json\n",
    "from collections import Counter\n",
    "import matplotlib.pyplot as plt\n",
    "from nltk.tokenize import PunktSentenceTokenizer, word_tokenize\n",
    "\n",
    "\n",
    "import nltk\n",
    "nltk.download('punkt')\n",
    "from nltk.corpus import gutenberg\n",
    "nltk.download('gutenberg')"
   ]
  },
  {
   "cell_type": "markdown",
   "metadata": {},
   "source": [
    "##### Get the list of available books in the Gutenberg Corpus"
   ]
  },
  {
   "cell_type": "code",
   "execution_count": 3,
   "metadata": {},
   "outputs": [
    {
     "name": "stdout",
     "output_type": "stream",
     "text": [
      "Available Books:\n",
      "austen-emma.txt\n",
      "austen-persuasion.txt\n",
      "austen-sense.txt\n",
      "bible-kjv.txt\n",
      "blake-poems.txt\n",
      "bryant-stories.txt\n",
      "burgess-busterbrown.txt\n",
      "carroll-alice.txt\n",
      "chesterton-ball.txt\n",
      "chesterton-brown.txt\n",
      "chesterton-thursday.txt\n",
      "edgeworth-parents.txt\n",
      "melville-moby_dick.txt\n",
      "milton-paradise.txt\n",
      "shakespeare-caesar.txt\n",
      "shakespeare-hamlet.txt\n",
      "shakespeare-macbeth.txt\n",
      "whitman-leaves.txt\n"
     ]
    }
   ],
   "source": [
    "book_list = gutenberg.fileids()\n",
    "print(\"Available Books:\")\n",
    "for book in book_list:\n",
    "    print(book)"
   ]
  },
  {
   "cell_type": "markdown",
   "metadata": {},
   "source": [
    "### 1. Implement BPE Algorithm\n",
    "\n",
    "```preprocess_and_create_vocab```: preprocess the input texts and creating an initial vocabulary.\n",
    "\n",
    "```get_stats```: compute the frequencies of adjacent character pairs (byte pairs) in the vocabulary.\n",
    "\n",
    "```merge_vocab```: merge the most frequent byte pair in the vocabulary.\n",
    "\n",
    "```encode_text```: encode new texts using the learned BPE merges.\n",
    "\n",
    "```decode_text```: reverse the BPE encoding process and reconstruct the original text."
   ]
  },
  {
   "cell_type": "code",
   "execution_count": 4,
   "metadata": {},
   "outputs": [],
   "source": [
    "def preprocess_and_create_vocab(texts):\n",
    "    vocab = Counter()\n",
    "    for text in texts:\n",
    "        words = text.split()\n",
    "        for word in words:\n",
    "            word = ' '.join(list(word)) + ' </w>'\n",
    "            vocab[word] += 1\n",
    "    return vocab\n",
    "\n",
    "def get_stats(vocab):\n",
    "    pairs = Counter()\n",
    "    for word, freq in vocab.items():\n",
    "        symbols = word.split()\n",
    "        for i in range(len(symbols)-1):\n",
    "            pairs[symbols[i], symbols[i+1]] += freq\n",
    "    return pairs\n",
    "\n",
    "def merge_vocab(pair, vocab):\n",
    "    new_vocab = {}\n",
    "    bigram = re.escape(' '.join(pair))\n",
    "    p = re.compile(r'(?<!\\S)' + bigram + r'(?!\\S)')\n",
    "    for word in vocab:\n",
    "        w_out = p.sub(''.join(pair), word)\n",
    "        new_vocab[w_out] = vocab[word]\n",
    "    return new_vocab\n",
    "\n",
    "def encode_text(text, vocab):\n",
    "    \"\"\"Encode a text using the BPE vocab.\"\"\"\n",
    "    words = text.split()\n",
    "    encoded_text = []\n",
    "    for word in words:\n",
    "        word = ' '.join(list(word)) + ' </w>'\n",
    "        while len(word.split()) > 1:\n",
    "            pairs = get_stats({word: 1})\n",
    "            if not pairs:\n",
    "                break\n",
    "            best = max(pairs, key=pairs.get)\n",
    "            word = merge_vocab(best, {word: 1}).popitem()[0]\n",
    "        encoded_text.append(word)\n",
    "    return encoded_text\n",
    "\n",
    "def decode_text(encoded_text):\n",
    "    \"\"\"Decode a text using the BPE encoding.\"\"\"\n",
    "    decoded_text = ' '.join(encoded_text).replace('</w>', '').replace(' ', '')\n",
    "    return decoded_text"
   ]
  },
  {
   "cell_type": "markdown",
   "metadata": {},
   "source": [
    "### 2. Train on NLTK Dataset\n",
    "\n",
    "Books chosen: austen-emma.txt, blake-poems.txt, shakespeare-hamlet.txt\n"
   ]
  },
  {
   "cell_type": "code",
   "execution_count": 5,
   "metadata": {},
   "outputs": [],
   "source": [
    "train_books = ['austen-emma.txt', 'blake-poems.txt', 'shakespeare-hamlet.txt']\n",
    "train_texts = [gutenberg.raw(book) for book in train_books]\n",
    "original_vocab = preprocess_and_create_vocab(train_texts)"
   ]
  },
  {
   "cell_type": "code",
   "execution_count": 6,
   "metadata": {},
   "outputs": [],
   "source": [
    "num_merges = 3000\n",
    "vocab = original_vocab.copy()\n",
    "merge_frequencies = []\n",
    "\n",
    "for i in range(num_merges):\n",
    "    pairs = get_stats(vocab)\n",
    "    if not pairs:\n",
    "        break\n",
    "    best = max(pairs, key=pairs.get)\n",
    "    best_frequency = pairs[best]\n",
    "    merge_frequencies.append(best_frequency)\n",
    "    vocab = merge_vocab(best, vocab)"
   ]
  },
  {
   "cell_type": "markdown",
   "metadata": {},
   "source": [
    "### 3. Test on NLTK Dataset\n",
    "\n",
    "Books chosen: austen-sense.txt, austen-persuasion.txt, edgeworth-parents.txt\n",
    "\n",
    "Note: the similarity between training books and testing books can influence the result of evaluation metrics"
   ]
  },
  {
   "cell_type": "code",
   "execution_count": 7,
   "metadata": {},
   "outputs": [],
   "source": [
    "# Load and preprocess test data\n",
    "test_books = ['austen-sense.txt', 'austen-persuasion.txt', 'edgeworth-parents.txt']\n",
    "test_texts = [gutenberg.raw(book) for book in test_books]\n",
    "test_vocab = preprocess_and_create_vocab(test_texts)\n",
    "\n",
    "# Encode the test texts\n",
    "encoded_texts = [encode_text(text, vocab) for text in test_texts]\n"
   ]
  },
  {
   "cell_type": "markdown",
   "metadata": {},
   "source": [
    "Evaluate metrics: Coverage, Accuracy"
   ]
  },
  {
   "cell_type": "code",
   "execution_count": 8,
   "metadata": {},
   "outputs": [
    {
     "name": "stdout",
     "output_type": "stream",
     "text": [
      "Coverage: 3.33%\n"
     ]
    }
   ],
   "source": [
    "# Coverage\n",
    "training_tokens = set(vocab.keys())\n",
    "test_tokens = set(sum(encoded_texts, []))\n",
    "coverage = len(training_tokens & test_tokens) / len(test_tokens)\n",
    "\n",
    "print(f\"Coverage: {coverage:.2%}\")"
   ]
  },
  {
   "cell_type": "code",
   "execution_count": 9,
   "metadata": {},
   "outputs": [
    {
     "name": "stdout",
     "output_type": "stream",
     "text": [
      "Average Accuracy: 3.71%\n"
     ]
    }
   ],
   "source": [
    "# Measure accuracy\n",
    "accuracies = []\n",
    "for original_text, encoded_text in zip(test_texts, encoded_texts):\n",
    "    decoded_text = decode_text(encoded_text)\n",
    "    # Simple accuracy: percentage of correctly reconstructed characters\n",
    "    correct_chars = sum(o == d for o, d in zip(original_text, decoded_text))\n",
    "    total_chars = len(original_text)\n",
    "    accuracy = correct_chars / total_chars\n",
    "    accuracies.append(accuracy)\n",
    "\n",
    "average_accuracy = sum(accuracies) / len(accuracies)\n",
    "print(f\"Average Accuracy: {average_accuracy:.2%}\")\n"
   ]
  },
  {
   "cell_type": "markdown",
   "metadata": {},
   "source": [
    "Tokenization coverage of the BPE algorithm is 3.33%\n",
    "\n",
    "Tokenization accuracy of the BPE algorithm is 3.71%"
   ]
  },
  {
   "cell_type": "markdown",
   "metadata": {},
   "source": [
    "#### Saving books as text files"
   ]
  },
  {
   "cell_type": "code",
   "execution_count": 17,
   "metadata": {},
   "outputs": [
    {
     "name": "stdout",
     "output_type": "stream",
     "text": [
      "Saved austen-emma.txt to training_texts/austen-emma.txt\n",
      "Saved blake-poems.txt to training_texts/blake-poems.txt\n",
      "Saved shakespeare-hamlet.txt to training_texts/shakespeare-hamlet.txt\n",
      "Saved austen-sense.txt to testing_texts/austen-sense.txt\n",
      "Saved austen-persuasion.txt to testing_texts/austen-persuasion.txt\n",
      "Saved edgeworth-parents.txt to testing_texts/edgeworth-parents.txt\n"
     ]
    }
   ],
   "source": [
    "def save_book(book_id, file_path):\n",
    "    text = gutenberg.raw(book_id)\n",
    "    with open(file_path, 'w', encoding='utf-8') as f:\n",
    "        f.write(text)\n",
    "\n",
    "# Directory where you want to save the books\n",
    "train_path = 'training_texts'\n",
    "test_path = 'testing_texts'\n",
    "\n",
    "# Training and Test Books\n",
    "train_books = ['austen-emma.txt', 'blake-poems.txt', 'shakespeare-hamlet.txt']\n",
    "test_books = ['austen-sense.txt', 'austen-persuasion.txt', 'edgeworth-parents.txt']\n",
    "\n",
    "# Saving Books\n",
    "for book in train_books:\n",
    "    file_path = os.path.join(train_path, book)\n",
    "    save_book(book, file_path)\n",
    "    print(f\"Saved {book} to {file_path}\")\n",
    "\n",
    "for book in test_books:\n",
    "    file_path = os.path.join(test_path, book)\n",
    "    save_book(book, file_path)\n",
    "    print(f\"Saved {book} to {file_path}\")"
   ]
  },
  {
   "cell_type": "markdown",
   "metadata": {},
   "source": [
    "### 4. Create Reference Tokenization with punkt\n",
    "\n",
    "Use NLTK's punkt tokenizer to create a reference tokenization for the test dataset. "
   ]
  },
  {
   "cell_type": "code",
   "execution_count": 10,
   "metadata": {},
   "outputs": [],
   "source": [
    "def tokenize_with_punkt(text):\n",
    "    \"\"\"Tokenize text using Punkt Sentence Tokenizer and NLTK's word tokenizer.\"\"\"\n",
    "    sentence_tokenizer = PunktSentenceTokenizer()\n",
    "    sentences = sentence_tokenizer.tokenize(text)\n",
    "    word_tokens = [word_tokenize(sentence) for sentence in sentences]\n",
    "    return word_tokens"
   ]
  },
  {
   "cell_type": "code",
   "execution_count": 11,
   "metadata": {},
   "outputs": [
    {
     "name": "stdout",
     "output_type": "stream",
     "text": [
      "Punkt tokenized texts saved to tokenization_result/punkt_tokenized_texts.txt\n"
     ]
    }
   ],
   "source": [
    "# Tokenize the test texts\n",
    "punkt_tokenized_texts = [tokenize_with_punkt(text) for text in test_texts]\n",
    "\n",
    "def save_as_txt(tokenized_texts, file_path):\n",
    "    with open(file_path, 'w') as f:\n",
    "        for text in tokenized_texts:\n",
    "            for sentence in text:\n",
    "                f.write(' '.join(sentence) + '\\n')\n",
    "            f.write('\\n')  # Separate documents by a blank line\n",
    "\n",
    "# Save the Punkt tokenized texts\n",
    "punkt_file_path = 'tokenization_result/punkt_tokenized_texts.txt'\n",
    "save_as_txt(punkt_tokenized_texts, punkt_file_path)\n",
    "\n",
    "print(f\"Punkt tokenized texts saved to {punkt_file_path}\")\n"
   ]
  },
  {
   "cell_type": "code",
   "execution_count": 12,
   "metadata": {},
   "outputs": [
    {
     "name": "stdout",
     "output_type": "stream",
     "text": [
      "BPE encoded texts saved to tokenization_result/bpe_encoded_texts.txt\n"
     ]
    }
   ],
   "source": [
    "def save_bpe_encoded(encoded_texts, file_path):\n",
    "    with open(file_path, 'w') as f:\n",
    "        for text in encoded_texts:\n",
    "            for token in text:\n",
    "                f.write(token + '\\n')\n",
    "            f.write('\\n')\n",
    "\n",
    "# Save the BPE encoded texts\n",
    "bpe_file_path = 'tokenization_result/bpe_encoded_texts.txt'\n",
    "save_bpe_encoded(encoded_texts, bpe_file_path)\n",
    "\n",
    "print(f\"BPE encoded texts saved to {bpe_file_path}\")"
   ]
  },
  {
   "cell_type": "markdown",
   "metadata": {},
   "source": [
    "### 5. Compare with Standard Tokenization: Word Tokenization"
   ]
  },
  {
   "cell_type": "code",
   "execution_count": 13,
   "metadata": {},
   "outputs": [],
   "source": [
    "# Tokenize the test texts using NLTK's word_tokenize\n",
    "nltk_tokenized_texts = [word_tokenize(text) for text in test_texts]"
   ]
  },
  {
   "cell_type": "code",
   "execution_count": 14,
   "metadata": {},
   "outputs": [],
   "source": [
    "def calculate_metrics(bpe_tokens, nltk_tokens):\n",
    "    # Flatten the lists of tokens\n",
    "    flat_bpe_tokens = [token for sublist in bpe_tokens for token in sublist]\n",
    "    flat_nltk_tokens = [token for sublist in nltk_tokens for token in sublist]\n",
    "\n",
    "    # Metrics calculation\n",
    "    true_positives = len(set(flat_bpe_tokens) & set(flat_nltk_tokens))\n",
    "    false_positives = len(set(flat_bpe_tokens) - set(flat_nltk_tokens))\n",
    "    false_negatives = len(set(flat_nltk_tokens) - set(flat_bpe_tokens))\n",
    "\n",
    "    precision = true_positives / (true_positives + false_positives) if true_positives + false_positives > 0 else 0\n",
    "    recall = true_positives / (true_positives + false_negatives) if true_positives + false_negatives > 0 else 0\n",
    "    f1_score = 2 * (precision * recall) / (precision + recall) if precision + recall > 0 else 0\n",
    "    jaccard_similarity = true_positives / (true_positives + false_positives + false_negatives) if true_positives + false_positives + false_negatives > 0 else 0\n",
    "\n",
    "    return true_positives, false_positives, false_negatives, precision, recall, f1_score, jaccard_similarity\n"
   ]
  },
  {
   "cell_type": "code",
   "execution_count": 15,
   "metadata": {},
   "outputs": [
    {
     "name": "stdout",
     "output_type": "stream",
     "text": [
      "Text 1:\n",
      "Precision: 0.96, Recall: 0.99, F1-Score: 0.97, Jaccard Similarity: 0.95\n",
      "True Positive: 75.00, False Positive: 3.00, False Negative: 1.00\n",
      "Text 2:\n",
      "Precision: 0.95, Recall: 1.00, F1-Score: 0.97, Jaccard Similarity: 0.95\n",
      "True Positive: 75.00, False Positive: 4.00, False Negative: 0.00\n",
      "Text 3:\n",
      "Precision: 0.95, Recall: 0.99, F1-Score: 0.97, Jaccard Similarity: 0.94\n",
      "True Positive: 76.00, False Positive: 4.00, False Negative: 1.00\n"
     ]
    }
   ],
   "source": [
    "# precision, recall, F1-score, and Jaccard similarity for each test text\n",
    "for i, (bpe_text, nltk_text) in enumerate(zip(encoded_texts, nltk_tokenized_texts)):\n",
    "    true_positives, false_positives, false_negatives, precision, recall, f1_score, jaccard_similarity = calculate_metrics(bpe_text, nltk_text)\n",
    "    print(f\"Text {i+1}:\")\n",
    "    print(f\"Precision: {precision:.2f}, Recall: {recall:.2f}, F1-Score: {f1_score:.2f}, Jaccard Similarity: {jaccard_similarity:.2f}\")\n",
    "    print(f\"True Positive: {true_positives:.2f}, False Positive: {false_positives:.2f}, False Negative: {false_negatives:.2f}\")\n"
   ]
  },
  {
   "cell_type": "code",
   "execution_count": 15,
   "metadata": {},
   "outputs": [
    {
     "name": "stdout",
     "output_type": "stream",
     "text": [
      "Text 1: Coverage: 0.99\n",
      "Text 2: Coverage: 1.00\n",
      "Text 3: Coverage: 0.99\n"
     ]
    }
   ],
   "source": [
    "def calculate_coverage(bpe_tokens, nltk_tokens):\n",
    "    flat_bpe_tokens = [token for sublist in bpe_tokens for token in sublist]\n",
    "    flat_nltk_tokens = [token for sublist in nltk_tokens for token in sublist]\n",
    "\n",
    "    unique_bpe_tokens = set(flat_bpe_tokens)\n",
    "    unique_nltk_tokens = set(flat_nltk_tokens)\n",
    "    coverage = len(unique_bpe_tokens & unique_nltk_tokens) / len(unique_nltk_tokens) if unique_nltk_tokens else 0\n",
    "\n",
    "    return coverage\n",
    "\n",
    "for i, (bpe_text, nltk_text) in enumerate(zip(encoded_texts, nltk_tokenized_texts)):\n",
    "    coverage = calculate_coverage(bpe_text, nltk_text)\n",
    "    print(f\"Text {i+1}: Coverage: {coverage:.2f}\")"
   ]
  },
  {
   "cell_type": "markdown",
   "metadata": {},
   "source": [
    "##### Evaluation of the three test texts:\n",
    "Text 1(austen-sense.txt): \n",
    "- Precision: 0.96\n",
    "- Recall: 0.99\n",
    "- F1-Score: 0.97\n",
    "- Jaccard Similarity: 0.95\n",
    "- Coverage: 0.99\n",
    "\n",
    "Text 2(austen-persuasion.txt):\n",
    "- Precision: 0.95\n",
    "- Recall: 1.00\n",
    "- F1-Score: 0.97\n",
    "- Jaccard Similarity: 0.95\n",
    "- Coverage: 1.00\n",
    "\n",
    "Text 3(edgeworth-parents.txt):\n",
    "- Precision: 0.95\n",
    "- Recall: 0.99\n",
    "- F1-Score: 0.97\n",
    "- Jaccard Similarity: 0.94\n",
    "- Coverage: 0.99"
   ]
  },
  {
   "cell_type": "markdown",
   "metadata": {},
   "source": [
    "\n",
    "**Precision** assesses the accuracy of the positive predictions made by BPE algorithm. In the context of tokenization, it measures the proportion of tokens identified by BPE algorithm that are correct according to the reference tokenization. \n",
    "- High precision means that most of the tokens BPE algorithm identifies are indeed valid tokens. This is important for ensuring that algorithm isn't overly aggressive in tokenizing text, which could lead to fragmented or nonsensical tokens.\n",
    "\n",
    "**Recall** evaluates the ability of BPE algorithm to capture all the relevant instances. It's the proportion of actual tokens in the ground truth that your algorithm successfully identifies. \n",
    "- High recall indicates that BPE algorithm is effective in identifying most of the tokens present in the text. This is crucial for ensuring that the algorithm doesn't miss out on important tokens, which could lead to loss of information or context in downstream tasks.\n",
    "\n",
    "**F1-Score** is the mean of precision and recall. It provides a single metric that balances both precision and recall.The F1-Score is useful for finding a balance between precision and recall. \n",
    "It's helpful if there's an uneven class distribution (like when some tokens are much more common than others), as it doesn't disproportionately favor a large number of correct but trivial predictions.\n",
    "\n",
    "**Jaccard Similarity** measures the similarity between the set of tokens produced by BPE algorithm and the set in the ground truth. It's calculated as the size of the intersection divided by the size of the union of the two sets of tokens. \n",
    "- Jaccard Similarity gives a sense of the overall similarity between the two sets of tokens. It's useful for understanding how closely BPE tokens match the reference tokens in terms of both presence and absence of tokens.\n",
    "\n",
    "**Coverage** evaluates the proportion of unique tokens in the ground truth that are covered by BPE algorithm. Coverage is important for assessing the comprehensiveness of BPE algorithm. \n",
    "- A high coverage indicates that the BPE algorithm is capable of representing a wide range of tokens in the text, which is essential for ensuring the utility of the algorithm in diverse text processing scenarios."
   ]
  },
  {
   "cell_type": "markdown",
   "metadata": {},
   "source": [
    "### 6. Visualizations\n",
    "\n",
    "##### a. Visualizing the Frequency of Most Common Merge"
   ]
  },
  {
   "cell_type": "code",
   "execution_count": 14,
   "metadata": {},
   "outputs": [],
   "source": [
    "import matplotlib.pyplot as plt\n",
    "from collections import defaultdict"
   ]
  },
  {
   "cell_type": "code",
   "execution_count": 18,
   "metadata": {},
   "outputs": [
    {
     "data": {
      "image/png": "[encoded data removed]",
      "text/plain": [
       "<Figure size 640x480 with 1 Axes>"
      ]
     },
     "metadata": {},
     "output_type": "display_data"
    }
   ],
   "source": [
    "\n",
    "plt.plot(merge_frequencies)\n",
    "plt.xlabel('Merge Step')\n",
    "plt.ylabel('Frequency of Most Common Merge')\n",
    "plt.title('Frequency of Most Common Merge per Step in BPE Training')\n",
    "plt.show()"
   ]
  },
  {
   "cell_type": "markdown",
   "metadata": {},
   "source": [
    "This plot shows the frequencies of the most common pair merge in each step. \\\n",
    "From the plot, we see high frequencies at the beginning (as common pairs are merged) which may decrease as the algorithm progresses and fewer common pairs are available to merge."
   ]
  },
  {
   "cell_type": "markdown",
   "metadata": {},
   "source": [
    "##### Visualizing Top Tokens of Byte Pair Encoding"
   ]
  },
  {
   "cell_type": "code",
   "execution_count": 19,
   "metadata": {},
   "outputs": [],
   "source": [
    "def get_top_tokens(vocab, top_n=10):\n",
    "    \"\"\"Get the top N tokens from the vocabulary.\"\"\"\n",
    "    # Sort the vocabulary items by frequency in descending order\n",
    "    sorted_vocab = sorted(vocab.items(), key=lambda item: item[1], reverse=True)\n",
    "    return sorted_vocab[:top_n]\n"
   ]
  },
  {
   "cell_type": "code",
   "execution_count": 24,
   "metadata": {},
   "outputs": [
    {
     "data": {
      "image/png": "[encoded data removed]",
      "text/plain": [
       "<Figure size 1500x800 with 2 Axes>"
      ]
     },
     "metadata": {},
     "output_type": "display_data"
    }
   ],
   "source": [
    "top_n = 10\n",
    "initial_top_tokens = get_top_tokens(original_vocab, top_n)\n",
    "final_top_tokens = get_top_tokens(vocab, top_n)\n",
    "\n",
    "fig, axes = plt.subplots(1, 2, figsize=(15, 8))\n",
    "\n",
    "# Reverse the order for initial vocabulary\n",
    "tokens, frequencies = zip(*reversed(initial_top_tokens))\n",
    "axes[0].barh(tokens, frequencies)\n",
    "axes[0].set_title('Top Tokens Before BPE')\n",
    "axes[0].set_xlabel('Frequency')\n",
    "axes[0].set_ylabel('Tokens')\n",
    "\n",
    "# Reverse the order for final vocabulary\n",
    "tokens, frequencies = zip(*reversed(final_top_tokens))\n",
    "axes[1].barh(tokens, frequencies)\n",
    "axes[1].set_title('Top Tokens After BPE')\n",
    "axes[1].set_xlabel('Frequency')\n",
    "\n",
    "plt.tight_layout()\n",
    "plt.show()\n",
    "\n"
   ]
  }
 ],
 "metadata": {
  "kernelspec": {
   "display_name": "Python 3",
   "language": "python",
   "name": "python3"
  },
  "language_info": {
   "codemirror_mode": {
    "name": "ipython",
    "version": 3
   },
   "file_extension": ".py",
   "mimetype": "text/x-python",
   "name": "python",
   "nbconvert_exporter": "python",
   "pygments_lexer": "ipython3",
   "version": "3.12.1"
  }
 },
 "nbformat": 4,
 "nbformat_minor": 2
}
